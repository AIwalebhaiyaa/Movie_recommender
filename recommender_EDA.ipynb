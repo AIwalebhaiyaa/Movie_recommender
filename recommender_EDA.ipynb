{
 "cells": [
  {
   "cell_type": "code",
   "execution_count": 22,
   "id": "fad4c3db-7ecc-44f0-9b56-5a012a38271f",
   "metadata": {},
   "outputs": [],
   "source": [
    "import pandas as pd\n",
    "import matplotlib.pyplot as plt\n",
    "import numpy as np\n",
    "%matplotlib inline"
   ]
  },
  {
   "cell_type": "code",
   "execution_count": 29,
   "id": "ae5ba1f0-ba2f-426d-86e7-e323c4de306f",
   "metadata": {},
   "outputs": [],
   "source": [
    "df = pd.read_csv(\"TMDb_updated.CSV\")"
   ]
  },
  {
   "cell_type": "code",
   "execution_count": 30,
   "id": "a6bb62d0-ae98-4a80-bfbb-c6840ae91494",
   "metadata": {},
   "outputs": [
    {
     "data": {
      "text/html": [
       "<div>\n",
       "<style scoped>\n",
       "    .dataframe tbody tr th:only-of-type {\n",
       "        vertical-align: middle;\n",
       "    }\n",
       "\n",
       "    .dataframe tbody tr th {\n",
       "        vertical-align: top;\n",
       "    }\n",
       "\n",
       "    .dataframe thead th {\n",
       "        text-align: right;\n",
       "    }\n",
       "</style>\n",
       "<table border=\"1\" class=\"dataframe\">\n",
       "  <thead>\n",
       "    <tr style=\"text-align: right;\">\n",
       "      <th></th>\n",
       "      <th>index</th>\n",
       "      <th>title</th>\n",
       "      <th>overview</th>\n",
       "      <th>original_language</th>\n",
       "      <th>vote_count</th>\n",
       "      <th>vote_average</th>\n",
       "    </tr>\n",
       "  </thead>\n",
       "  <tbody>\n",
       "    <tr>\n",
       "      <th>0</th>\n",
       "      <td>0</td>\n",
       "      <td>Ad Astra</td>\n",
       "      <td>The near future, a time when both hope and har...</td>\n",
       "      <td>en</td>\n",
       "      <td>2853</td>\n",
       "      <td>5.9</td>\n",
       "    </tr>\n",
       "    <tr>\n",
       "      <th>1</th>\n",
       "      <td>1</td>\n",
       "      <td>Bloodshot</td>\n",
       "      <td>After he and his wife are murdered, marine Ray...</td>\n",
       "      <td>en</td>\n",
       "      <td>1349</td>\n",
       "      <td>7.2</td>\n",
       "    </tr>\n",
       "    <tr>\n",
       "      <th>2</th>\n",
       "      <td>2</td>\n",
       "      <td>Bad Boys for Life</td>\n",
       "      <td>Marcus and Mike are forced to confront new thr...</td>\n",
       "      <td>en</td>\n",
       "      <td>2530</td>\n",
       "      <td>7.1</td>\n",
       "    </tr>\n",
       "    <tr>\n",
       "      <th>3</th>\n",
       "      <td>3</td>\n",
       "      <td>Ant-Man</td>\n",
       "      <td>Armed with the astonishing ability to shrink i...</td>\n",
       "      <td>en</td>\n",
       "      <td>13611</td>\n",
       "      <td>7.1</td>\n",
       "    </tr>\n",
       "    <tr>\n",
       "      <th>4</th>\n",
       "      <td>4</td>\n",
       "      <td>Percy Jackson: Sea of Monsters</td>\n",
       "      <td>In their quest to confront the ultimate evil, ...</td>\n",
       "      <td>en</td>\n",
       "      <td>3542</td>\n",
       "      <td>5.9</td>\n",
       "    </tr>\n",
       "  </tbody>\n",
       "</table>\n",
       "</div>"
      ],
      "text/plain": [
       "   index                           title  \\\n",
       "0      0                        Ad Astra   \n",
       "1      1                       Bloodshot   \n",
       "2      2               Bad Boys for Life   \n",
       "3      3                         Ant-Man   \n",
       "4      4  Percy Jackson: Sea of Monsters   \n",
       "\n",
       "                                            overview original_language  \\\n",
       "0  The near future, a time when both hope and har...                en   \n",
       "1  After he and his wife are murdered, marine Ray...                en   \n",
       "2  Marcus and Mike are forced to confront new thr...                en   \n",
       "3  Armed with the astonishing ability to shrink i...                en   \n",
       "4  In their quest to confront the ultimate evil, ...                en   \n",
       "\n",
       "   vote_count  vote_average  \n",
       "0        2853           5.9  \n",
       "1        1349           7.2  \n",
       "2        2530           7.1  \n",
       "3       13611           7.1  \n",
       "4        3542           5.9  "
      ]
     },
     "execution_count": 30,
     "metadata": {},
     "output_type": "execute_result"
    }
   ],
   "source": [
    "df.head()"
   ]
  },
  {
   "cell_type": "code",
   "execution_count": 31,
   "id": "b8e4c7b2-f699-4cc7-a3a4-93209b5793c6",
   "metadata": {},
   "outputs": [],
   "source": [
    "df.set_index(\"index\",inplace = True)"
   ]
  },
  {
   "cell_type": "code",
   "execution_count": 32,
   "id": "7263672c-542e-4f61-8d8c-357dae18bcfb",
   "metadata": {},
   "outputs": [
    {
     "data": {
      "text/html": [
       "<div>\n",
       "<style scoped>\n",
       "    .dataframe tbody tr th:only-of-type {\n",
       "        vertical-align: middle;\n",
       "    }\n",
       "\n",
       "    .dataframe tbody tr th {\n",
       "        vertical-align: top;\n",
       "    }\n",
       "\n",
       "    .dataframe thead th {\n",
       "        text-align: right;\n",
       "    }\n",
       "</style>\n",
       "<table border=\"1\" class=\"dataframe\">\n",
       "  <thead>\n",
       "    <tr style=\"text-align: right;\">\n",
       "      <th></th>\n",
       "      <th>title</th>\n",
       "      <th>overview</th>\n",
       "      <th>original_language</th>\n",
       "      <th>vote_count</th>\n",
       "      <th>vote_average</th>\n",
       "    </tr>\n",
       "    <tr>\n",
       "      <th>index</th>\n",
       "      <th></th>\n",
       "      <th></th>\n",
       "      <th></th>\n",
       "      <th></th>\n",
       "      <th></th>\n",
       "    </tr>\n",
       "  </thead>\n",
       "  <tbody>\n",
       "    <tr>\n",
       "      <th>0</th>\n",
       "      <td>Ad Astra</td>\n",
       "      <td>The near future, a time when both hope and har...</td>\n",
       "      <td>en</td>\n",
       "      <td>2853</td>\n",
       "      <td>5.9</td>\n",
       "    </tr>\n",
       "    <tr>\n",
       "      <th>1</th>\n",
       "      <td>Bloodshot</td>\n",
       "      <td>After he and his wife are murdered, marine Ray...</td>\n",
       "      <td>en</td>\n",
       "      <td>1349</td>\n",
       "      <td>7.2</td>\n",
       "    </tr>\n",
       "    <tr>\n",
       "      <th>2</th>\n",
       "      <td>Bad Boys for Life</td>\n",
       "      <td>Marcus and Mike are forced to confront new thr...</td>\n",
       "      <td>en</td>\n",
       "      <td>2530</td>\n",
       "      <td>7.1</td>\n",
       "    </tr>\n",
       "    <tr>\n",
       "      <th>3</th>\n",
       "      <td>Ant-Man</td>\n",
       "      <td>Armed with the astonishing ability to shrink i...</td>\n",
       "      <td>en</td>\n",
       "      <td>13611</td>\n",
       "      <td>7.1</td>\n",
       "    </tr>\n",
       "    <tr>\n",
       "      <th>4</th>\n",
       "      <td>Percy Jackson: Sea of Monsters</td>\n",
       "      <td>In their quest to confront the ultimate evil, ...</td>\n",
       "      <td>en</td>\n",
       "      <td>3542</td>\n",
       "      <td>5.9</td>\n",
       "    </tr>\n",
       "  </tbody>\n",
       "</table>\n",
       "</div>"
      ],
      "text/plain": [
       "                                title  \\\n",
       "index                                   \n",
       "0                            Ad Astra   \n",
       "1                           Bloodshot   \n",
       "2                   Bad Boys for Life   \n",
       "3                             Ant-Man   \n",
       "4      Percy Jackson: Sea of Monsters   \n",
       "\n",
       "                                                overview original_language  \\\n",
       "index                                                                        \n",
       "0      The near future, a time when both hope and har...                en   \n",
       "1      After he and his wife are murdered, marine Ray...                en   \n",
       "2      Marcus and Mike are forced to confront new thr...                en   \n",
       "3      Armed with the astonishing ability to shrink i...                en   \n",
       "4      In their quest to confront the ultimate evil, ...                en   \n",
       "\n",
       "       vote_count  vote_average  \n",
       "index                            \n",
       "0            2853           5.9  \n",
       "1            1349           7.2  \n",
       "2            2530           7.1  \n",
       "3           13611           7.1  \n",
       "4            3542           5.9  "
      ]
     },
     "execution_count": 32,
     "metadata": {},
     "output_type": "execute_result"
    }
   ],
   "source": [
    "df.head()"
   ]
  },
  {
   "cell_type": "code",
   "execution_count": 38,
   "id": "b3ad86f5-bf6a-4127-9b0c-0bea4f03c69d",
   "metadata": {},
   "outputs": [],
   "source": [
    "df.sort_values(by = \"vote_count\",ascending = False, inplace = True)"
   ]
  },
  {
   "cell_type": "code",
   "execution_count": 39,
   "id": "c9cf80fe-7c2c-46aa-92d2-738340bc4dd7",
   "metadata": {},
   "outputs": [],
   "source": [
    "df.dropna(inplace = True)"
   ]
  },
  {
   "cell_type": "code",
   "execution_count": 49,
   "id": "8a48c8f9-2bd9-4261-aab4-821efe638e0e",
   "metadata": {},
   "outputs": [
    {
     "data": {
      "image/png": "[encoded data removed]",
      "text/plain": [
       "<Figure size 2500x1500 with 1 Axes>"
      ]
     },
     "metadata": {},
     "output_type": "display_data"
    }
   ],
   "source": [
    "plt.figure(figsize = (25,15))\n",
    "plt.plot(df[\"title\"].head(10), df[\"vote_count\"].head(10))\n",
    "plt.show()"
   ]
  },
  {
   "cell_type": "code",
   "execution_count": 57,
   "id": "349696a8-f75b-44a2-9d74-4fb1b3d1064c",
   "metadata": {},
   "outputs": [],
   "source": [
    "df[\"factor\"] = df[\"vote_count\"]*df[\"vote_average\"]/(10**4+7)"
   ]
  },
  {
   "cell_type": "code",
   "execution_count": 58,
   "id": "6521a040-843c-44bf-aef6-380731275ca2",
   "metadata": {},
   "outputs": [
    {
     "data": {
      "text/html": [
       "<div>\n",
       "<style scoped>\n",
       "    .dataframe tbody tr th:only-of-type {\n",
       "        vertical-align: middle;\n",
       "    }\n",
       "\n",
       "    .dataframe tbody tr th {\n",
       "        vertical-align: top;\n",
       "    }\n",
       "\n",
       "    .dataframe thead th {\n",
       "        text-align: right;\n",
       "    }\n",
       "</style>\n",
       "<table border=\"1\" class=\"dataframe\">\n",
       "  <thead>\n",
       "    <tr style=\"text-align: right;\">\n",
       "      <th></th>\n",
       "      <th>title</th>\n",
       "      <th>overview</th>\n",
       "      <th>original_language</th>\n",
       "      <th>vote_count</th>\n",
       "      <th>vote_average</th>\n",
       "      <th>factor</th>\n",
       "    </tr>\n",
       "    <tr>\n",
       "      <th>index</th>\n",
       "      <th></th>\n",
       "      <th></th>\n",
       "      <th></th>\n",
       "      <th></th>\n",
       "      <th></th>\n",
       "      <th></th>\n",
       "    </tr>\n",
       "  </thead>\n",
       "  <tbody>\n",
       "    <tr>\n",
       "      <th>80</th>\n",
       "      <td>Inception</td>\n",
       "      <td>Cobb, a skilled thief who commits corporate es...</td>\n",
       "      <td>en</td>\n",
       "      <td>25148</td>\n",
       "      <td>8.3</td>\n",
       "      <td>20.858239</td>\n",
       "    </tr>\n",
       "    <tr>\n",
       "      <th>128</th>\n",
       "      <td>Deadpool</td>\n",
       "      <td>Deadpool tells the origin story of former Spec...</td>\n",
       "      <td>en</td>\n",
       "      <td>22225</td>\n",
       "      <td>7.6</td>\n",
       "      <td>16.879185</td>\n",
       "    </tr>\n",
       "    <tr>\n",
       "      <th>86</th>\n",
       "      <td>The Avengers</td>\n",
       "      <td>When an unexpected enemy emerges and threatens...</td>\n",
       "      <td>en</td>\n",
       "      <td>21893</td>\n",
       "      <td>7.7</td>\n",
       "      <td>16.845818</td>\n",
       "    </tr>\n",
       "    <tr>\n",
       "      <th>47</th>\n",
       "      <td>Interstellar</td>\n",
       "      <td>Interstellar chronicles the adventures of a gr...</td>\n",
       "      <td>en</td>\n",
       "      <td>21589</td>\n",
       "      <td>8.3</td>\n",
       "      <td>17.906336</td>\n",
       "    </tr>\n",
       "    <tr>\n",
       "      <th>88</th>\n",
       "      <td>The Dark Knight</td>\n",
       "      <td>Batman raises the stakes in his war on crime. ...</td>\n",
       "      <td>en</td>\n",
       "      <td>21561</td>\n",
       "      <td>8.4</td>\n",
       "      <td>18.098571</td>\n",
       "    </tr>\n",
       "    <tr>\n",
       "      <th>132</th>\n",
       "      <td>Avatar</td>\n",
       "      <td>In the 22nd century, a paraplegic Marine is di...</td>\n",
       "      <td>en</td>\n",
       "      <td>20778</td>\n",
       "      <td>7.4</td>\n",
       "      <td>15.364965</td>\n",
       "    </tr>\n",
       "    <tr>\n",
       "      <th>402</th>\n",
       "      <td>Guardians of the Galaxy</td>\n",
       "      <td>Light years from Earth, 26 years after being a...</td>\n",
       "      <td>en</td>\n",
       "      <td>20132</td>\n",
       "      <td>7.9</td>\n",
       "      <td>15.893155</td>\n",
       "    </tr>\n",
       "    <tr>\n",
       "      <th>243</th>\n",
       "      <td>Fight Club</td>\n",
       "      <td>A ticking-time-bomb insomniac and a slippery s...</td>\n",
       "      <td>en</td>\n",
       "      <td>18664</td>\n",
       "      <td>8.4</td>\n",
       "      <td>15.666793</td>\n",
       "    </tr>\n",
       "    <tr>\n",
       "      <th>216</th>\n",
       "      <td>Pulp Fiction</td>\n",
       "      <td>A burger-loving hit man, his philosophical par...</td>\n",
       "      <td>en</td>\n",
       "      <td>18003</td>\n",
       "      <td>8.5</td>\n",
       "      <td>15.291846</td>\n",
       "    </tr>\n",
       "    <tr>\n",
       "      <th>396</th>\n",
       "      <td>Django Unchained</td>\n",
       "      <td>With the help of a German bounty hunter, a fre...</td>\n",
       "      <td>en</td>\n",
       "      <td>17864</td>\n",
       "      <td>8.1</td>\n",
       "      <td>14.459718</td>\n",
       "    </tr>\n",
       "  </tbody>\n",
       "</table>\n",
       "</div>"
      ],
      "text/plain": [
       "                         title  \\\n",
       "index                            \n",
       "80                   Inception   \n",
       "128                   Deadpool   \n",
       "86                The Avengers   \n",
       "47                Interstellar   \n",
       "88             The Dark Knight   \n",
       "132                     Avatar   \n",
       "402    Guardians of the Galaxy   \n",
       "243                 Fight Club   \n",
       "216               Pulp Fiction   \n",
       "396           Django Unchained   \n",
       "\n",
       "                                                overview original_language  \\\n",
       "index                                                                        \n",
       "80     Cobb, a skilled thief who commits corporate es...                en   \n",
       "128    Deadpool tells the origin story of former Spec...                en   \n",
       "86     When an unexpected enemy emerges and threatens...                en   \n",
       "47     Interstellar chronicles the adventures of a gr...                en   \n",
       "88     Batman raises the stakes in his war on crime. ...                en   \n",
       "132    In the 22nd century, a paraplegic Marine is di...                en   \n",
       "402    Light years from Earth, 26 years after being a...                en   \n",
       "243    A ticking-time-bomb insomniac and a slippery s...                en   \n",
       "216    A burger-loving hit man, his philosophical par...                en   \n",
       "396    With the help of a German bounty hunter, a fre...                en   \n",
       "\n",
       "       vote_count  vote_average     factor  \n",
       "index                                       \n",
       "80          25148           8.3  20.858239  \n",
       "128         22225           7.6  16.879185  \n",
       "86          21893           7.7  16.845818  \n",
       "47          21589           8.3  17.906336  \n",
       "88          21561           8.4  18.098571  \n",
       "132         20778           7.4  15.364965  \n",
       "402         20132           7.9  15.893155  \n",
       "243         18664           8.4  15.666793  \n",
       "216         18003           8.5  15.291846  \n",
       "396         17864           8.1  14.459718  "
      ]
     },
     "execution_count": 58,
     "metadata": {},
     "output_type": "execute_result"
    }
   ],
   "source": [
    "df.head(10)"
   ]
  },
  {
   "cell_type": "code",
   "execution_count": 70,
   "id": "77c9a650-8bcd-458e-9b57-45c51a0e9bd9",
   "metadata": {},
   "outputs": [
    {
     "data": {
      "application/vnd.jupyter.widget-view+json": {
       "model_id": "b198fbfb57bf4bcbb11b1e1f1cafd657",
       "version_major": 2,
       "version_minor": 0
      },
      "text/plain": [
       "config.json:   0%|          | 0.00/948 [00:00<?, ?B/s]"
      ]
     },
     "metadata": {},
     "output_type": "display_data"
    },
    {
     "name": "stderr",
     "output_type": "stream",
     "text": [
      "C:\\Python312\\Lib\\site-packages\\huggingface_hub\\file_download.py:157: UserWarning: `huggingface_hub` cache-system uses symlinks by default to efficiently store duplicated files but your machine does not support them in C:\\Users\\dhruv\\.cache\\huggingface\\hub\\models--Sinanmz--Movie_Genre_Classifier. Caching files will still work but in a degraded version that might require more space on your disk. This warning can be disabled by setting the `HF_HUB_DISABLE_SYMLINKS_WARNING` environment variable. For more details, see https://huggingface.co/docs/huggingface_hub/how-to-cache#limitations.\n",
      "To support symlinks on Windows, you either need to activate Developer Mode or to run Python as an administrator. In order to see activate developer mode, see this article: https://docs.microsoft.com/en-us/windows/apps/get-started/enable-your-device-for-development\n",
      "  warnings.warn(message)\n"
     ]
    },
    {
     "data": {
      "application/vnd.jupyter.widget-view+json": {
       "model_id": "c6110ceebf9e4a638f68226a4184dbee",
       "version_major": 2,
       "version_minor": 0
      },
      "text/plain": [
       "model.safetensors:   0%|          | 0.00/438M [00:00<?, ?B/s]"
      ]
     },
     "metadata": {},
     "output_type": "display_data"
    },
    {
     "data": {
      "application/vnd.jupyter.widget-view+json": {
       "model_id": "d307d0bd458c412bafc1769a55d03efa",
       "version_major": 2,
       "version_minor": 0
      },
      "text/plain": [
       "tokenizer_config.json:   0%|          | 0.00/1.24k [00:00<?, ?B/s]"
      ]
     },
     "metadata": {},
     "output_type": "display_data"
    },
    {
     "data": {
      "application/vnd.jupyter.widget-view+json": {
       "model_id": "6694e183754e4814b8c68d497c60587f",
       "version_major": 2,
       "version_minor": 0
      },
      "text/plain": [
       "vocab.txt:   0%|          | 0.00/232k [00:00<?, ?B/s]"
      ]
     },
     "metadata": {},
     "output_type": "display_data"
    },
    {
     "data": {
      "application/vnd.jupyter.widget-view+json": {
       "model_id": "202f261c1a834cddb1de24f01ac195b1",
       "version_major": 2,
       "version_minor": 0
      },
      "text/plain": [
       "special_tokens_map.json:   0%|          | 0.00/125 [00:00<?, ?B/s]"
      ]
     },
     "metadata": {},
     "output_type": "display_data"
    }
   ],
   "source": [
    "# Use a pipeline as a high-level helper\n",
    "from transformers import pipeline\n",
    "\n",
    "pipe = pipeline(\"text-classification\", model=\"Sinanmz/Movie_Genre_Classifier\")"
   ]
  },
  {
   "cell_type": "code",
   "execution_count": 76,
   "id": "b74dfb05-b78d-4cc8-91b3-200041d568c0",
   "metadata": {},
   "outputs": [
    {
     "data": {
      "text/plain": [
       "{'label': 'Action', 'score': 0.9193028211593628}"
      ]
     },
     "execution_count": 76,
     "metadata": {},
     "output_type": "execute_result"
    }
   ],
   "source": [
    "pipe(df[\"overview\"][101])[0]"
   ]
  },
  {
   "cell_type": "code",
   "execution_count": 77,
   "id": "c782ea42-46c0-4641-8764-8246be595ee3",
   "metadata": {},
   "outputs": [],
   "source": [
    "def genre(dfs):\n",
    "    return pipe(dfs)[0][\"label\"]"
   ]
  },
  {
   "cell_type": "code",
   "execution_count": 78,
   "id": "4ff3b21a-df72-4767-9460-4298178d8b29",
   "metadata": {},
   "outputs": [],
   "source": [
    "df[\"genres\"] = df[\"overview\"].apply(genre)"
   ]
  },
  {
   "cell_type": "code",
   "execution_count": 79,
   "id": "e50767e0-7a81-4624-8ae3-bbaa7209b473",
   "metadata": {},
   "outputs": [
    {
     "data": {
      "text/html": [
       "<div>\n",
       "<style scoped>\n",
       "    .dataframe tbody tr th:only-of-type {\n",
       "        vertical-align: middle;\n",
       "    }\n",
       "\n",
       "    .dataframe tbody tr th {\n",
       "        vertical-align: top;\n",
       "    }\n",
       "\n",
       "    .dataframe thead th {\n",
       "        text-align: right;\n",
       "    }\n",
       "</style>\n",
       "<table border=\"1\" class=\"dataframe\">\n",
       "  <thead>\n",
       "    <tr style=\"text-align: right;\">\n",
       "      <th></th>\n",
       "      <th>title</th>\n",
       "      <th>overview</th>\n",
       "      <th>original_language</th>\n",
       "      <th>vote_count</th>\n",
       "      <th>vote_average</th>\n",
       "      <th>factor</th>\n",
       "      <th>genres</th>\n",
       "    </tr>\n",
       "    <tr>\n",
       "      <th>index</th>\n",
       "      <th></th>\n",
       "      <th></th>\n",
       "      <th></th>\n",
       "      <th></th>\n",
       "      <th></th>\n",
       "      <th></th>\n",
       "      <th></th>\n",
       "    </tr>\n",
       "  </thead>\n",
       "  <tbody>\n",
       "    <tr>\n",
       "      <th>80</th>\n",
       "      <td>Inception</td>\n",
       "      <td>Cobb, a skilled thief who commits corporate es...</td>\n",
       "      <td>en</td>\n",
       "      <td>25148</td>\n",
       "      <td>8.3</td>\n",
       "      <td>20.858239</td>\n",
       "      <td>Action</td>\n",
       "    </tr>\n",
       "    <tr>\n",
       "      <th>128</th>\n",
       "      <td>Deadpool</td>\n",
       "      <td>Deadpool tells the origin story of former Spec...</td>\n",
       "      <td>en</td>\n",
       "      <td>22225</td>\n",
       "      <td>7.6</td>\n",
       "      <td>16.879185</td>\n",
       "      <td>Action</td>\n",
       "    </tr>\n",
       "    <tr>\n",
       "      <th>86</th>\n",
       "      <td>The Avengers</td>\n",
       "      <td>When an unexpected enemy emerges and threatens...</td>\n",
       "      <td>en</td>\n",
       "      <td>21893</td>\n",
       "      <td>7.7</td>\n",
       "      <td>16.845818</td>\n",
       "      <td>Action</td>\n",
       "    </tr>\n",
       "    <tr>\n",
       "      <th>47</th>\n",
       "      <td>Interstellar</td>\n",
       "      <td>Interstellar chronicles the adventures of a gr...</td>\n",
       "      <td>en</td>\n",
       "      <td>21589</td>\n",
       "      <td>8.3</td>\n",
       "      <td>17.906336</td>\n",
       "      <td>Action</td>\n",
       "    </tr>\n",
       "    <tr>\n",
       "      <th>88</th>\n",
       "      <td>The Dark Knight</td>\n",
       "      <td>Batman raises the stakes in his war on crime. ...</td>\n",
       "      <td>en</td>\n",
       "      <td>21561</td>\n",
       "      <td>8.4</td>\n",
       "      <td>18.098571</td>\n",
       "      <td>Action</td>\n",
       "    </tr>\n",
       "  </tbody>\n",
       "</table>\n",
       "</div>"
      ],
      "text/plain": [
       "                 title                                           overview  \\\n",
       "index                                                                       \n",
       "80           Inception  Cobb, a skilled thief who commits corporate es...   \n",
       "128           Deadpool  Deadpool tells the origin story of former Spec...   \n",
       "86        The Avengers  When an unexpected enemy emerges and threatens...   \n",
       "47        Interstellar  Interstellar chronicles the adventures of a gr...   \n",
       "88     The Dark Knight  Batman raises the stakes in his war on crime. ...   \n",
       "\n",
       "      original_language  vote_count  vote_average     factor  genres  \n",
       "index                                                                 \n",
       "80                   en       25148           8.3  20.858239  Action  \n",
       "128                  en       22225           7.6  16.879185  Action  \n",
       "86                   en       21893           7.7  16.845818  Action  \n",
       "47                   en       21589           8.3  17.906336  Action  \n",
       "88                   en       21561           8.4  18.098571  Action  "
      ]
     },
     "execution_count": 79,
     "metadata": {},
     "output_type": "execute_result"
    }
   ],
   "source": [
    "df.head()"
   ]
  },
  {
   "cell_type": "code",
   "execution_count": 80,
   "id": "248d457b-2f6a-4edc-8e33-c993a68f6b00",
   "metadata": {},
   "outputs": [],
   "source": [
    "df.to_csv(\"movies_updated.csv\")"
   ]
  },
  {
   "cell_type": "code",
   "execution_count": null,
   "id": "7cf9d16f-730d-498a-bde2-36b0d551a019",
   "metadata": {},
   "outputs": [],
   "source": []
  }
 ],
 "metadata": {
  "kernelspec": {
   "display_name": "Python 3 (ipykernel)",
   "language": "python",
   "name": "python3"
  },
  "language_info": {
   "codemirror_mode": {
    "name": "ipython",
    "version": 3
   },
   "file_extension": ".py",
   "mimetype": "text/x-python",
   "name": "python",
   "nbconvert_exporter": "python",
   "pygments_lexer": "ipython3",
   "version": "3.12.3"
  }
 },
 "nbformat": 4,
 "nbformat_minor": 5
}
